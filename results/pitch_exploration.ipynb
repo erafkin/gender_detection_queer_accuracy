{
 "cells": [
  {
   "cell_type": "code",
   "execution_count": 25,
   "metadata": {},
   "outputs": [],
   "source": [
    "import json\n",
    "with open(\"./binary_classifier_20_epochs_queer_results.json\", \"r\") as f:\n",
    "    results = json.load(f)\n",
    "men_correct = []\n",
    "men_incorrect = []\n",
    "women_correct = []\n",
    "women_incorrect = []\n",
    "for gender in results.keys():\n",
    "    for video in results[gender]:\n",
    "        if video[\"result\"][0][\"label\"] == gender:\n",
    "            if gender == \"men\":\n",
    "                men_correct.append(video[\"name\"])\n",
    "\n",
    "            else:\n",
    "                women_correct.append(video[\"name\"])\n",
    "        else:\n",
    "            if gender == \"men\":\n",
    "                men_incorrect.append(video[\"name\"])\n",
    "            else:\n",
    "                women_incorrect.append(video[\"name\"])"
   ]
  },
  {
   "cell_type": "code",
   "execution_count": 34,
   "metadata": {},
   "outputs": [
    {
     "name": "stdout",
     "output_type": "stream",
     "text": [
      "['Aubrey_Plaza_3.wav', 'Drew_Barrymore_2.wav', 'Hayley_Kiyoko_2.wav', 'Janelle_Monae_2.wav', 'Megan_Rapinoe_3.wav', 'Rosie_ODonnell_1.wav', 'Rosie_ODonnell_2.wav']\n",
      "['Aubrey_Plaza_1.wav', 'Aubrey_Plaza_2.wav', 'Aubrey_Plaza_3.wav', 'Drew_Barrymore_1.wav', 'Drew_Barrymore_2.wav', 'Hayley_Kiyoko_1.wav', 'Hayley_Kiyoko_2.wav', 'Janelle_Monae_1.wav', 'Janelle_Monae_2.wav', 'Kate_McKinnon_1.wav', 'Kate_McKinnon_2.wav', 'Kristen_Stewart_1.wav', 'Kristen_Stewart_2.wav', 'Kristen_Stewart_3.wav', 'Megan_Rapinoe_1.wav', 'Megan_Rapinoe_2.wav', 'Megan_Rapinoe_3.wav', 'Raven_Symone_1.wav', 'Raven_Symone_2.wav', 'Rosie_ODonnell_1.wav', 'Rosie_ODonnell_2.wav', 'Samira_Wiley_1.wav', 'Samira_Wiley_2.wav', 'Sarah_Paulson_1.wav', 'Sarah_Paulson_2.wav', 'Taylor_Schilling_1.wav', 'Taylor_Schilling_2.wav', 'Wanda_Sykes_1.wav', 'Wanda_Sykes_2.wav']\n",
      "320.15522128160546 304.8062300434434\n",
      "349.0710726237314 315.0565048943172\n",
      "145.61968496973975 147.27797759628479\n",
      "494.6907575934713 462.33448249060206\n"
     ]
    }
   ],
   "source": [
    "import pandas as pd\n",
    "import numpy as np\n",
    "pitches = pd.read_table(\"./queer_women_pitches.csv\", sep=\"\\t\")\n",
    "print(women_incorrect)\n",
    "\n",
    "print(pitches[\"Filename\"].to_list())\n",
    "\n",
    "pitches_incorrect = pitches[pitches['Filename'].isin(women_incorrect)]\n",
    "pitches_correct = pitches[pitches['Filename'].isin(women_correct)]\n",
    "\n",
    "avg_pitch_correct = np.average(pitches_correct[\"avg pitch\"].to_list())\n",
    "avg_pitch_incorrect = np.average(pitches_incorrect[\"avg pitch\"].to_list())\n",
    "print(avg_pitch_correct, avg_pitch_incorrect)\n",
    "\n",
    "avg_range_correct = np.average(pitches_correct[\"pitch range\"].to_list())\n",
    "avg_range_incorrect = np.average(pitches_incorrect[\"pitch range\"].to_list())\n",
    "print(avg_range_correct, avg_range_incorrect)\n",
    "\n",
    "avg_min_pitch_correct = np.average(pitches_correct[\"min pitch\"].to_list())\n",
    "avg_min_pitch_incorrect = np.average(pitches_incorrect[\"min pitch\"].to_list())\n",
    "print(avg_min_pitch_correct, avg_min_pitch_incorrect)\n",
    "\n",
    "avg_max_pitch_correct = np.average(pitches_correct[\"max pitch\"].to_list())\n",
    "avg_max_pitch_incorrect = np.average(pitches_incorrect[\"max pitch\"].to_list())\n",
    "print(avg_max_pitch_correct, avg_max_pitch_incorrect)"
   ]
  }
 ],
 "metadata": {
  "kernelspec": {
   "display_name": "venv",
   "language": "python",
   "name": "python3"
  },
  "language_info": {
   "codemirror_mode": {
    "name": "ipython",
    "version": 3
   },
   "file_extension": ".py",
   "mimetype": "text/x-python",
   "name": "python",
   "nbconvert_exporter": "python",
   "pygments_lexer": "ipython3",
   "version": "3.11.6"
  }
 },
 "nbformat": 4,
 "nbformat_minor": 2
}
