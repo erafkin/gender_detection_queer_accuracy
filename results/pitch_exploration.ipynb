{
 "cells": [
  {
   "cell_type": "code",
   "execution_count": 38,
   "metadata": {},
   "outputs": [],
   "source": [
    "import json\n",
    "with open(\"./binary_classifier_20_epochs_straight_results.json\", \"r\") as f:\n",
    "    results = json.load(f)\n",
    "men_correct = []\n",
    "men_incorrect = []\n",
    "women_correct = []\n",
    "women_incorrect = []\n",
    "for gender in results.keys():\n",
    "    for video in results[gender]:\n",
    "        if video[\"result\"][0][\"label\"] == gender:\n",
    "            if gender == \"men\":\n",
    "                men_correct.append(video[\"name\"])\n",
    "            else:\n",
    "                women_correct.append(video[\"name\"])\n",
    "        else:\n",
    "            if gender == \"men\":\n",
    "                men_incorrect.append(video[\"name\"])\n",
    "            else:\n",
    "                women_incorrect.append(video[\"name\"])"
   ]
  },
  {
   "cell_type": "code",
   "execution_count": 40,
   "metadata": {},
   "outputs": [
    {
     "name": "stdout",
     "output_type": "stream",
     "text": [
      "['Zac_Efron_1.wav']\n",
      "['Amanda_Seyfried_1.wav', 'Amanda_Seyfried_2.wav', 'Amy_Poehler_1.wav', 'Amy_Poehler_2.wav', 'Amy_Schumer_1.wav', 'Amy_Schumer_2.wav', 'Angela_Kinsey_1.wav', 'Angela_Kinsey_2.wav', 'Anne_Hathaway_1.wav', 'Anne_Hathaway_2.wav', 'Greta_Gerwig_1.wav', 'Greta_Gerwig_2.wav', 'Helena_Bonham_Carter_1.wav', 'Helena_Bonham_Carter_2.wav', 'Julia_Louis-Dreyfus_1.wav', 'Julia_Louis-Dreyfus_2.wav', 'Julia_Roberts_1.wav', 'Julia_Roberts_2.wav', 'Julia_Stiles_1.wav', 'Julia_Stiles_2.wav', 'Kathryn_Hahn_1.wav', 'Kathryn_Hahn_2.wav', 'Kristen_Bell_1.wav', 'Kristen_Bell_2.wav', 'Kristen_Wiig_1.wav', 'Kristen_Wiig_2.wav']\n",
      "26\n",
      "Avg pitch all 207.27647320127159\n",
      "median pitch all 207.66021192998028\n",
      "207.31590921329374 206.803241057006\n",
      "207.66021192998028 206.803241057006\n"
     ]
    }
   ],
   "source": [
    "import pandas as pd\n",
    "import numpy as np\n",
    "pitches = pd.read_table(\"./straight_women_pitches.csv\", sep=\"\\t\")\n",
    "print(men_incorrect)\n",
    "\n",
    "print(pitches[\"Filename\"].to_list())\n",
    "print(len(pitches[\"Filename\"].to_list()))\n",
    "\n",
    "pitches_incorrect = pitches[pitches['Filename'].isin(women_incorrect)]\n",
    "\n",
    "pitches_correct = pitches[pitches['Filename'].isin(women_correct)]\n",
    "avg_pitch_all =  np.average(pitches[\"avg pitch\"].to_list())\n",
    "print(\"Avg pitch all\", avg_pitch_all)\n",
    "median_pitch_all =  np.median(pitches[\"avg pitch\"].to_list())\n",
    "print(\"median pitch all\", median_pitch_all)\n",
    "avg_pitch_correct = np.average(pitches_correct[\"avg pitch\"].to_list())\n",
    "avg_pitch_incorrect = np.average(pitches_incorrect[\"avg pitch\"].to_list())\n",
    "print(avg_pitch_correct, avg_pitch_incorrect)\n",
    "\n",
    "median_pitch_correct = np.median(pitches_correct[\"avg pitch\"].to_list())\n",
    "median_pitch_incorrect = np.median(pitches_incorrect[\"avg pitch\"].to_list())\n",
    "print(median_pitch_correct, median_pitch_incorrect)\n",
    "\n"
   ]
  }
 ],
 "metadata": {
  "kernelspec": {
   "display_name": "venv",
   "language": "python",
   "name": "python3"
  },
  "language_info": {
   "codemirror_mode": {
    "name": "ipython",
    "version": 3
   },
   "file_extension": ".py",
   "mimetype": "text/x-python",
   "name": "python",
   "nbconvert_exporter": "python",
   "pygments_lexer": "ipython3",
   "version": "3.11.6"
  }
 },
 "nbformat": 4,
 "nbformat_minor": 2
}
